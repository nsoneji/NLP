{
 "cells": [
  {
   "cell_type": "code",
   "execution_count": 2,
   "metadata": {},
   "outputs": [],
   "source": [
    "import pandas as pd\n",
    "import numpy as np\n",
    "from sklearn.feature_extraction.text import TfidfVectorizer\n",
    "from sklearn.feature_extraction.text import CountVectorizer\n",
    "\n",
    "import warnings\n",
    "warnings.filterwarnings('ignore', category=UserWarning, append=True)"
   ]
  },
  {
   "cell_type": "code",
   "execution_count": 4,
   "metadata": {},
   "outputs": [
    {
     "data": {
      "text/plain": [
       "'query_df'"
      ]
     },
     "metadata": {},
     "output_type": "display_data"
    },
    {
     "data": {
      "text/html": [
       "<div>\n",
       "<style scoped>\n",
       "    .dataframe tbody tr th:only-of-type {\n",
       "        vertical-align: middle;\n",
       "    }\n",
       "\n",
       "    .dataframe tbody tr th {\n",
       "        vertical-align: top;\n",
       "    }\n",
       "\n",
       "    .dataframe thead th {\n",
       "        text-align: right;\n",
       "    }\n",
       "</style>\n",
       "<table border=\"1\" class=\"dataframe\">\n",
       "  <thead>\n",
       "    <tr style=\"text-align: right;\">\n",
       "      <th></th>\n",
       "      <th>five</th>\n",
       "      <th>four</th>\n",
       "      <th>one</th>\n",
       "      <th>six</th>\n",
       "      <th>three</th>\n",
       "      <th>two</th>\n",
       "    </tr>\n",
       "  </thead>\n",
       "  <tbody>\n",
       "    <tr>\n",
       "      <th>0</th>\n",
       "      <td>2</td>\n",
       "      <td>0</td>\n",
       "      <td>1</td>\n",
       "      <td>0</td>\n",
       "      <td>0</td>\n",
       "      <td>0</td>\n",
       "    </tr>\n",
       "  </tbody>\n",
       "</table>\n",
       "</div>"
      ],
      "text/plain": [
       "   five  four  one  six  three  two\n",
       "0     2     0    1    0      0    0"
      ]
     },
     "metadata": {},
     "output_type": "display_data"
    },
    {
     "data": {
      "text/plain": [
       "'documents_df'"
      ]
     },
     "metadata": {},
     "output_type": "display_data"
    },
    {
     "data": {
      "text/html": [
       "<div>\n",
       "<style scoped>\n",
       "    .dataframe tbody tr th:only-of-type {\n",
       "        vertical-align: middle;\n",
       "    }\n",
       "\n",
       "    .dataframe tbody tr th {\n",
       "        vertical-align: top;\n",
       "    }\n",
       "\n",
       "    .dataframe thead th {\n",
       "        text-align: right;\n",
       "    }\n",
       "</style>\n",
       "<table border=\"1\" class=\"dataframe\">\n",
       "  <thead>\n",
       "    <tr style=\"text-align: right;\">\n",
       "      <th></th>\n",
       "      <th>five</th>\n",
       "      <th>four</th>\n",
       "      <th>one</th>\n",
       "      <th>six</th>\n",
       "      <th>three</th>\n",
       "      <th>two</th>\n",
       "    </tr>\n",
       "  </thead>\n",
       "  <tbody>\n",
       "    <tr>\n",
       "      <th>0</th>\n",
       "      <td>0</td>\n",
       "      <td>0</td>\n",
       "      <td>1</td>\n",
       "      <td>0</td>\n",
       "      <td>2</td>\n",
       "      <td>1</td>\n",
       "    </tr>\n",
       "    <tr>\n",
       "      <th>1</th>\n",
       "      <td>1</td>\n",
       "      <td>1</td>\n",
       "      <td>1</td>\n",
       "      <td>0</td>\n",
       "      <td>0</td>\n",
       "      <td>0</td>\n",
       "    </tr>\n",
       "    <tr>\n",
       "      <th>2</th>\n",
       "      <td>1</td>\n",
       "      <td>0</td>\n",
       "      <td>0</td>\n",
       "      <td>1</td>\n",
       "      <td>0</td>\n",
       "      <td>1</td>\n",
       "    </tr>\n",
       "  </tbody>\n",
       "</table>\n",
       "</div>"
      ],
      "text/plain": [
       "   five  four  one  six  three  two\n",
       "0     0     0    1    0      2    1\n",
       "1     1     1    1    0      0    0\n",
       "2     1     0    0    1      0    1"
      ]
     },
     "metadata": {},
     "output_type": "display_data"
    },
    {
     "name": "stdout",
     "output_type": "stream",
     "text": [
      "shape (3, 6)\n",
      "idf [1.28768207 1.69314718 1.28768207 1.69314718 1.69314718 1.28768207]\n",
      "=========================\n",
      "['five', 'four', 'one', 'six', 'three', 'two']\n"
     ]
    },
    {
     "data": {
      "text/html": [
       "<div>\n",
       "<style scoped>\n",
       "    .dataframe tbody tr th:only-of-type {\n",
       "        vertical-align: middle;\n",
       "    }\n",
       "\n",
       "    .dataframe tbody tr th {\n",
       "        vertical-align: top;\n",
       "    }\n",
       "\n",
       "    .dataframe thead th {\n",
       "        text-align: right;\n",
       "    }\n",
       "</style>\n",
       "<table border=\"1\" class=\"dataframe\">\n",
       "  <thead>\n",
       "    <tr style=\"text-align: right;\">\n",
       "      <th></th>\n",
       "      <th>five</th>\n",
       "      <th>four</th>\n",
       "      <th>one</th>\n",
       "      <th>six</th>\n",
       "      <th>three</th>\n",
       "      <th>two</th>\n",
       "    </tr>\n",
       "  </thead>\n",
       "  <tbody>\n",
       "    <tr>\n",
       "      <th>0</th>\n",
       "      <td>0</td>\n",
       "      <td>0</td>\n",
       "      <td>1</td>\n",
       "      <td>0</td>\n",
       "      <td>2</td>\n",
       "      <td>1</td>\n",
       "    </tr>\n",
       "    <tr>\n",
       "      <th>1</th>\n",
       "      <td>1</td>\n",
       "      <td>1</td>\n",
       "      <td>1</td>\n",
       "      <td>0</td>\n",
       "      <td>0</td>\n",
       "      <td>0</td>\n",
       "    </tr>\n",
       "    <tr>\n",
       "      <th>2</th>\n",
       "      <td>1</td>\n",
       "      <td>0</td>\n",
       "      <td>0</td>\n",
       "      <td>1</td>\n",
       "      <td>0</td>\n",
       "      <td>1</td>\n",
       "    </tr>\n",
       "  </tbody>\n",
       "</table>\n",
       "</div>"
      ],
      "text/plain": [
       "   five  four  one  six  three  two\n",
       "0     0     0    1    0      2    1\n",
       "1     1     1    1    0      0    0\n",
       "2     1     0    0    1      0    1"
      ]
     },
     "metadata": {},
     "output_type": "display_data"
    },
    {
     "name": "stdout",
     "output_type": "stream",
     "text": [
      "idf [1.28768207 1.69314718 1.28768207 1.69314718 1.69314718 1.28768207]\n"
     ]
    },
    {
     "data": {
      "text/plain": [
       "'numerator_df'"
      ]
     },
     "metadata": {},
     "output_type": "display_data"
    },
    {
     "data": {
      "text/html": [
       "<div>\n",
       "<style scoped>\n",
       "    .dataframe tbody tr th:only-of-type {\n",
       "        vertical-align: middle;\n",
       "    }\n",
       "\n",
       "    .dataframe tbody tr th {\n",
       "        vertical-align: top;\n",
       "    }\n",
       "\n",
       "    .dataframe thead th {\n",
       "        text-align: right;\n",
       "    }\n",
       "</style>\n",
       "<table border=\"1\" class=\"dataframe\">\n",
       "  <thead>\n",
       "    <tr style=\"text-align: right;\">\n",
       "      <th></th>\n",
       "      <th>five</th>\n",
       "      <th>four</th>\n",
       "      <th>one</th>\n",
       "      <th>six</th>\n",
       "      <th>three</th>\n",
       "      <th>two</th>\n",
       "    </tr>\n",
       "  </thead>\n",
       "  <tbody>\n",
       "    <tr>\n",
       "      <th>0</th>\n",
       "      <td>0.000000</td>\n",
       "      <td>0.000000</td>\n",
       "      <td>1.287682</td>\n",
       "      <td>0.000000</td>\n",
       "      <td>3.386294</td>\n",
       "      <td>1.287682</td>\n",
       "    </tr>\n",
       "    <tr>\n",
       "      <th>1</th>\n",
       "      <td>1.287682</td>\n",
       "      <td>1.693147</td>\n",
       "      <td>1.287682</td>\n",
       "      <td>0.000000</td>\n",
       "      <td>0.000000</td>\n",
       "      <td>0.000000</td>\n",
       "    </tr>\n",
       "    <tr>\n",
       "      <th>2</th>\n",
       "      <td>1.287682</td>\n",
       "      <td>0.000000</td>\n",
       "      <td>0.000000</td>\n",
       "      <td>1.693147</td>\n",
       "      <td>0.000000</td>\n",
       "      <td>1.287682</td>\n",
       "    </tr>\n",
       "  </tbody>\n",
       "</table>\n",
       "</div>"
      ],
      "text/plain": [
       "       five      four       one       six     three       two\n",
       "0  0.000000  0.000000  1.287682  0.000000  3.386294  1.287682\n",
       "1  1.287682  1.693147  1.287682  0.000000  0.000000  0.000000\n",
       "2  1.287682  0.000000  0.000000  1.693147  0.000000  1.287682"
      ]
     },
     "metadata": {},
     "output_type": "display_data"
    }
   ],
   "source": [
    "k =1 \n",
    "query = [\"one Five Five\"]\n",
    "documents = [\"one two three three\",  \n",
    "             \"four one five\",\n",
    "             'five two six']\n",
    "from sklearn.feature_extraction.text import TfidfTransformer\n",
    "#tfidf_vectorizer = TfidfVectorizer(token_pattern = '\\w+\\S+|\\w+',ngram_range= (1,2),use_idf= False)\n",
    "count_vectorizer = CountVectorizer(token_pattern = '\\w+\\S+|\\w+',ngram_range=(1,1))\n",
    "#documents_tfidf = tfidf_vectorizer.fit_transform(documents)\n",
    "\n",
    "#Get word count of the document5\n",
    "#document_word_count_vector = count_vectorizer.fit_transform(documents)\n",
    "q_d = query + documents\n",
    "\n",
    "query_dtm = count_vectorizer.fit(q_d)\n",
    "query_dtm = count_vectorizer.transform(query)\n",
    "query_dtm_matrix = query_dtm.todense()\n",
    "feature_names = count_vectorizer.get_feature_names()\n",
    "query_df = pd.DataFrame(query_dtm_matrix,\n",
    "                                        columns=feature_names)\n",
    "\n",
    "documents_dtm = count_vectorizer.transform(documents)\n",
    "documents_dtm_matrix = documents_dtm.todense()\n",
    "documents_df = pd.DataFrame(documents_dtm_matrix,\n",
    "                                            columns=feature_names)\n",
    "document_word_count_vector = documents_dtm\n",
    "#idf = np.array(count_vectorizer.idf_).T\n",
    "#df_idf = pd.DataFrame(idf.T, \n",
    "#                                index=count_vectorizer.get_feature_names(),\n",
    "#                                columns=[\"idf_weights\"])\n",
    "\n",
    "display(\"query_df\",query_df)\n",
    "display(\"documents_df\",documents_df)\n",
    "#display(\"df_idf\", df_idf)\n",
    "\n",
    "tfidf_transformer=TfidfTransformer(norm=\"l2\",smooth_idf=True,use_idf=True,sublinear_tf=False)\n",
    "document_word_tfidf_transform = tfidf_transformer.fit(document_word_count_vector)\n",
    "idf = (tfidf_transformer.idf_).T\n",
    "print(\"shape\",document_word_count_vector.shape)\n",
    "print(\"idf\",idf)\n",
    "print(\"=========================\")\n",
    "#print(document_word_count_vector)\n",
    "feature_names = count_vectorizer.get_feature_names()\n",
    "print(feature_names)\n",
    "\n",
    "documents_dtm_matrix = document_word_count_vector.todense()\n",
    "#print(documents_dtm_matrix)\n",
    "documents_df = pd.DataFrame(documents_dtm_matrix,\n",
    "                                    columns=feature_names)\n",
    "display(documents_df)\n",
    "row = [1,2,3,4,5]\n",
    "row_transpose = np.array(row).T\n",
    "print(\"idf\",idf)\n",
    "#print(\"row_transpose\",row_transpose)\n",
    "#numerator_df = documents_df.apply(lambda x: x*(k)*idf[int(x.name)],axis=1)\n",
    "numerator_df = documents_df.apply(lambda x: x*idf,axis=1)\n",
    "display(\"numerator_df\",numerator_df)\n",
    "#get tfidf vector for first document\n",
    "#first_document_vector=tf_idf_vector[0]"
   ]
  },
  {
   "cell_type": "markdown",
   "metadata": {},
   "source": [
    "### Using tfidfvectorizer"
   ]
  },
  {
   "cell_type": "code",
   "execution_count": 6,
   "metadata": {},
   "outputs": [
    {
     "name": "stdout",
     "output_type": "stream",
     "text": [
      "q_d ['one Five Five', 'one two three three three', 'four one five', 'five two six']\n",
      "feature_names len 6\n"
     ]
    },
    {
     "data": {
      "text/plain": [
       "'documents_df'"
      ]
     },
     "metadata": {},
     "output_type": "display_data"
    },
    {
     "data": {
      "text/html": [
       "<div>\n",
       "<style scoped>\n",
       "    .dataframe tbody tr th:only-of-type {\n",
       "        vertical-align: middle;\n",
       "    }\n",
       "\n",
       "    .dataframe tbody tr th {\n",
       "        vertical-align: top;\n",
       "    }\n",
       "\n",
       "    .dataframe thead th {\n",
       "        text-align: right;\n",
       "    }\n",
       "</style>\n",
       "<table border=\"1\" class=\"dataframe\">\n",
       "  <thead>\n",
       "    <tr style=\"text-align: right;\">\n",
       "      <th></th>\n",
       "      <th>five</th>\n",
       "      <th>four</th>\n",
       "      <th>one</th>\n",
       "      <th>six</th>\n",
       "      <th>three</th>\n",
       "      <th>two</th>\n",
       "    </tr>\n",
       "  </thead>\n",
       "  <tbody>\n",
       "    <tr>\n",
       "      <th>0</th>\n",
       "      <td>0.00000</td>\n",
       "      <td>0.00000</td>\n",
       "      <td>0.301511</td>\n",
       "      <td>0.00000</td>\n",
       "      <td>0.904534</td>\n",
       "      <td>0.301511</td>\n",
       "    </tr>\n",
       "    <tr>\n",
       "      <th>1</th>\n",
       "      <td>0.57735</td>\n",
       "      <td>0.57735</td>\n",
       "      <td>0.577350</td>\n",
       "      <td>0.00000</td>\n",
       "      <td>0.000000</td>\n",
       "      <td>0.000000</td>\n",
       "    </tr>\n",
       "    <tr>\n",
       "      <th>2</th>\n",
       "      <td>0.57735</td>\n",
       "      <td>0.00000</td>\n",
       "      <td>0.000000</td>\n",
       "      <td>0.57735</td>\n",
       "      <td>0.000000</td>\n",
       "      <td>0.577350</td>\n",
       "    </tr>\n",
       "  </tbody>\n",
       "</table>\n",
       "</div>"
      ],
      "text/plain": [
       "      five     four       one      six     three       two\n",
       "0  0.00000  0.00000  0.301511  0.00000  0.904534  0.301511\n",
       "1  0.57735  0.57735  0.577350  0.00000  0.000000  0.000000\n",
       "2  0.57735  0.00000  0.000000  0.57735  0.000000  0.577350"
      ]
     },
     "metadata": {},
     "output_type": "display_data"
    },
    {
     "name": "stdout",
     "output_type": "stream",
     "text": [
      "shape (3, 6)\n"
     ]
    },
    {
     "data": {
      "text/plain": [
       "'query_df'"
      ]
     },
     "metadata": {},
     "output_type": "display_data"
    },
    {
     "data": {
      "text/html": [
       "<div>\n",
       "<style scoped>\n",
       "    .dataframe tbody tr th:only-of-type {\n",
       "        vertical-align: middle;\n",
       "    }\n",
       "\n",
       "    .dataframe tbody tr th {\n",
       "        vertical-align: top;\n",
       "    }\n",
       "\n",
       "    .dataframe thead th {\n",
       "        text-align: right;\n",
       "    }\n",
       "</style>\n",
       "<table border=\"1\" class=\"dataframe\">\n",
       "  <thead>\n",
       "    <tr style=\"text-align: right;\">\n",
       "      <th></th>\n",
       "      <th>five</th>\n",
       "      <th>four</th>\n",
       "      <th>one</th>\n",
       "      <th>six</th>\n",
       "      <th>three</th>\n",
       "      <th>two</th>\n",
       "    </tr>\n",
       "  </thead>\n",
       "  <tbody>\n",
       "    <tr>\n",
       "      <th>0</th>\n",
       "      <td>0.894427</td>\n",
       "      <td>0.0</td>\n",
       "      <td>0.447214</td>\n",
       "      <td>0.0</td>\n",
       "      <td>0.0</td>\n",
       "      <td>0.0</td>\n",
       "    </tr>\n",
       "  </tbody>\n",
       "</table>\n",
       "</div>"
      ],
      "text/plain": [
       "       five  four       one  six  three  two\n",
       "0  0.894427   0.0  0.447214  0.0    0.0  0.0"
      ]
     },
     "metadata": {},
     "output_type": "display_data"
    },
    {
     "data": {
      "text/plain": [
       "'documents_df'"
      ]
     },
     "metadata": {},
     "output_type": "display_data"
    },
    {
     "data": {
      "text/html": [
       "<div>\n",
       "<style scoped>\n",
       "    .dataframe tbody tr th:only-of-type {\n",
       "        vertical-align: middle;\n",
       "    }\n",
       "\n",
       "    .dataframe tbody tr th {\n",
       "        vertical-align: top;\n",
       "    }\n",
       "\n",
       "    .dataframe thead th {\n",
       "        text-align: right;\n",
       "    }\n",
       "</style>\n",
       "<table border=\"1\" class=\"dataframe\">\n",
       "  <thead>\n",
       "    <tr style=\"text-align: right;\">\n",
       "      <th></th>\n",
       "      <th>five</th>\n",
       "      <th>four</th>\n",
       "      <th>one</th>\n",
       "      <th>six</th>\n",
       "      <th>three</th>\n",
       "      <th>two</th>\n",
       "    </tr>\n",
       "  </thead>\n",
       "  <tbody>\n",
       "    <tr>\n",
       "      <th>0</th>\n",
       "      <td>0.00000</td>\n",
       "      <td>0.00000</td>\n",
       "      <td>0.301511</td>\n",
       "      <td>0.00000</td>\n",
       "      <td>0.904534</td>\n",
       "      <td>0.301511</td>\n",
       "    </tr>\n",
       "    <tr>\n",
       "      <th>1</th>\n",
       "      <td>0.57735</td>\n",
       "      <td>0.57735</td>\n",
       "      <td>0.577350</td>\n",
       "      <td>0.00000</td>\n",
       "      <td>0.000000</td>\n",
       "      <td>0.000000</td>\n",
       "    </tr>\n",
       "    <tr>\n",
       "      <th>2</th>\n",
       "      <td>0.57735</td>\n",
       "      <td>0.00000</td>\n",
       "      <td>0.000000</td>\n",
       "      <td>0.57735</td>\n",
       "      <td>0.000000</td>\n",
       "      <td>0.577350</td>\n",
       "    </tr>\n",
       "  </tbody>\n",
       "</table>\n",
       "</div>"
      ],
      "text/plain": [
       "      five     four       one      six     three       two\n",
       "0  0.00000  0.00000  0.301511  0.00000  0.904534  0.301511\n",
       "1  0.57735  0.57735  0.577350  0.00000  0.000000  0.000000\n",
       "2  0.57735  0.00000  0.000000  0.57735  0.000000  0.577350"
      ]
     },
     "metadata": {},
     "output_type": "display_data"
    },
    {
     "data": {
      "text/plain": [
       "'documents_wordcount_df'"
      ]
     },
     "metadata": {},
     "output_type": "display_data"
    },
    {
     "data": {
      "text/html": [
       "<div>\n",
       "<style scoped>\n",
       "    .dataframe tbody tr th:only-of-type {\n",
       "        vertical-align: middle;\n",
       "    }\n",
       "\n",
       "    .dataframe tbody tr th {\n",
       "        vertical-align: top;\n",
       "    }\n",
       "\n",
       "    .dataframe thead th {\n",
       "        text-align: right;\n",
       "    }\n",
       "</style>\n",
       "<table border=\"1\" class=\"dataframe\">\n",
       "  <thead>\n",
       "    <tr style=\"text-align: right;\">\n",
       "      <th></th>\n",
       "      <th>five</th>\n",
       "      <th>four</th>\n",
       "      <th>one</th>\n",
       "      <th>six</th>\n",
       "      <th>three</th>\n",
       "      <th>two</th>\n",
       "    </tr>\n",
       "  </thead>\n",
       "  <tbody>\n",
       "    <tr>\n",
       "      <th>0</th>\n",
       "      <td>0</td>\n",
       "      <td>0</td>\n",
       "      <td>1</td>\n",
       "      <td>0</td>\n",
       "      <td>3</td>\n",
       "      <td>1</td>\n",
       "    </tr>\n",
       "    <tr>\n",
       "      <th>1</th>\n",
       "      <td>1</td>\n",
       "      <td>1</td>\n",
       "      <td>1</td>\n",
       "      <td>0</td>\n",
       "      <td>0</td>\n",
       "      <td>0</td>\n",
       "    </tr>\n",
       "    <tr>\n",
       "      <th>2</th>\n",
       "      <td>1</td>\n",
       "      <td>0</td>\n",
       "      <td>0</td>\n",
       "      <td>1</td>\n",
       "      <td>0</td>\n",
       "      <td>1</td>\n",
       "    </tr>\n",
       "  </tbody>\n",
       "</table>\n",
       "</div>"
      ],
      "text/plain": [
       "   five  four  one  six  three  two\n",
       "0     0     0    1    0      3    1\n",
       "1     1     1    1    0      0    0\n",
       "2     1     0    0    1      0    1"
      ]
     },
     "metadata": {},
     "output_type": "display_data"
    },
    {
     "data": {
      "text/plain": [
       "'bm25_doc_tf_weight_df'"
      ]
     },
     "metadata": {},
     "output_type": "display_data"
    },
    {
     "data": {
      "text/html": [
       "<div>\n",
       "<style scoped>\n",
       "    .dataframe tbody tr th:only-of-type {\n",
       "        vertical-align: middle;\n",
       "    }\n",
       "\n",
       "    .dataframe tbody tr th {\n",
       "        vertical-align: top;\n",
       "    }\n",
       "\n",
       "    .dataframe thead th {\n",
       "        text-align: right;\n",
       "    }\n",
       "</style>\n",
       "<table border=\"1\" class=\"dataframe\">\n",
       "  <thead>\n",
       "    <tr style=\"text-align: right;\">\n",
       "      <th></th>\n",
       "      <th>five</th>\n",
       "      <th>four</th>\n",
       "      <th>one</th>\n",
       "      <th>six</th>\n",
       "      <th>three</th>\n",
       "      <th>two</th>\n",
       "    </tr>\n",
       "  </thead>\n",
       "  <tbody>\n",
       "    <tr>\n",
       "      <th>0</th>\n",
       "      <td>NaN</td>\n",
       "      <td>NaN</td>\n",
       "      <td>0.30</td>\n",
       "      <td>NaN</td>\n",
       "      <td>0.3</td>\n",
       "      <td>0.30</td>\n",
       "    </tr>\n",
       "    <tr>\n",
       "      <th>1</th>\n",
       "      <td>0.58</td>\n",
       "      <td>0.58</td>\n",
       "      <td>0.58</td>\n",
       "      <td>NaN</td>\n",
       "      <td>NaN</td>\n",
       "      <td>NaN</td>\n",
       "    </tr>\n",
       "    <tr>\n",
       "      <th>2</th>\n",
       "      <td>0.58</td>\n",
       "      <td>NaN</td>\n",
       "      <td>NaN</td>\n",
       "      <td>0.58</td>\n",
       "      <td>NaN</td>\n",
       "      <td>0.58</td>\n",
       "    </tr>\n",
       "  </tbody>\n",
       "</table>\n",
       "</div>"
      ],
      "text/plain": [
       "   five  four   one   six  three   two\n",
       "0   NaN   NaN  0.30   NaN    0.3  0.30\n",
       "1  0.58  0.58  0.58   NaN    NaN   NaN\n",
       "2  0.58   NaN   NaN  0.58    NaN  0.58"
      ]
     },
     "metadata": {},
     "output_type": "display_data"
    },
    {
     "name": "stdout",
     "output_type": "stream",
     "text": [
      "score [[0.13483997 0.77459667 0.51639778]]\n"
     ]
    }
   ],
   "source": [
    "query = [\"one Five Five\"]\n",
    "documents = [\"one two three three three\",  \n",
    "             \"four one five\",\n",
    "             'five two six']\n",
    "tfidf_vectorizer = TfidfVectorizer(token_pattern = '\\w+\\S+|\\w+',binary = False,smooth_idf=True,\n",
    "                                   norm='l2',ngram_range= (1,1),use_idf= False)\n",
    "# documents_tfidf_vectorizer = TfidfVectorizer(token_pattern = '\\w+\\S+|\\w+',binary = True,smooth_idf=True,\n",
    "#                                    norm = 'l2',ngram_range= (1,1),use_idf= True)\n",
    "count_vectorizer = CountVectorizer(token_pattern = '\\w+\\S+|\\w+',ngram_range=(1,1))\n",
    "\n",
    "q_d  = query + documents\n",
    "print(\"q_d\",q_d)\n",
    "query_dtm = tfidf_vectorizer.fit(q_d)\n",
    "query_dtm = tfidf_vectorizer.transform(query)\n",
    "query_dtm_matrix = query_dtm.todense()\n",
    "#print(query_dtm.size())\n",
    "feature_names = tfidf_vectorizer.get_feature_names()\n",
    "print(\"feature_names len\",len(feature_names))\n",
    "query_df = pd.DataFrame(query_dtm_matrix,columns=feature_names)\n",
    "\n",
    "# idf = np.array(tfidf_vectorizer.idf_).T\n",
    "# #print(\"idf length\",len(idf),idf)\n",
    "# df_idf = pd.DataFrame(idf.T, \n",
    "#                 index=tfidf_vectorizer.get_feature_names(),\n",
    "#                 columns=[\"idf_weights\"])\n",
    "#display(\"df_idf\",df_idf)\n",
    "documents_dtm = tfidf_vectorizer.fit_transform(documents)\n",
    "documents_dtm_matrix = documents_dtm.todense()\n",
    "documents_df = pd.DataFrame(documents_dtm_matrix,\n",
    "                                            columns=feature_names)\n",
    "display(\"documents_df\",documents_df)\n",
    "document_word_tfidf_vector = documents_dtm\n",
    "#documents_df = documents_df.apply(lambda x: np.log(1+x),axis=1)\n",
    "count_vectorizer.fit(q_d)\n",
    "documents_wordcount_dtm = count_vectorizer.transform(documents)\n",
    "documents_wordcount_dtm_matrix = documents_wordcount_dtm.todense()\n",
    "#print(\"documents_wordcount_dtm_matrix\", documents_dtm_matrix)\n",
    "documents_wordcount_df = pd.DataFrame(documents_wordcount_dtm_matrix,columns=count_vectorizer.get_feature_names())\n",
    "\n",
    "#document_word_tfidf_vector= tfidf_vectorizer.fit_transform(documents)\n",
    "print(\"shape\",document_word_tfidf_vector.shape)\n",
    "display(\"query_df\",query_df)\n",
    "display(\"documents_df\",documents_df)\n",
    "display(\"documents_wordcount_df\",documents_wordcount_df)\n",
    "k = 1\n",
    "#doc_tfidf_df = documents_df.apply(lambda x: np.round(x*(k+1)/k*x*idf[x.name]),2)\n",
    "#doc_tfidf_df = documents_df.apply(lambda x: x*idf)\n",
    "bm25_doc_tf_weight_df = np.round(documents_df.div(documents_wordcount_df,axis=1),2)\n",
    "display(\"bm25_doc_tf_weight_df\",bm25_doc_tf_weight_df)\n",
    "#display(\"doc_tfidf_df\",doc_tfidf_df)\n",
    "#score = np.dot(query_df,documents_df.T)\n",
    "score = np.dot(query_df,documents_df.T)\n",
    "print(\"score\",score)\n",
    "#print(document_word_count_vector)\n",
    "# feature_names = tfidf_vectorizer.get_feature_names()\n",
    "# print(feature_names)\n",
    "# documents_dtm_matrix = document_word_tfidf_vector.todense()\n",
    "# #print(documents_dtm_matrix)\n",
    "# documents_df = pd.DataFrame(documents_dtm_matrix,\n",
    "#                                     columns=feature_names)\n",
    "# display(documents_df)"
   ]
  },
  {
   "cell_type": "code",
   "execution_count": 8,
   "metadata": {},
   "outputs": [
    {
     "name": "stdout",
     "output_type": "stream",
     "text": [
      "0.9045340337332909\n",
      "0.6\n"
     ]
    }
   ],
   "source": [
    "print(3/np.sqrt(11))\n",
    "print(3/5)"
   ]
  }
 ],
 "metadata": {
  "kernelspec": {
   "display_name": "Python 3",
   "language": "python",
   "name": "python3"
  },
  "language_info": {
   "codemirror_mode": {
    "name": "ipython",
    "version": 3
   },
   "file_extension": ".py",
   "mimetype": "text/x-python",
   "name": "python",
   "nbconvert_exporter": "python",
   "pygments_lexer": "ipython3",
   "version": "3.7.4"
  }
 },
 "nbformat": 4,
 "nbformat_minor": 2
}
